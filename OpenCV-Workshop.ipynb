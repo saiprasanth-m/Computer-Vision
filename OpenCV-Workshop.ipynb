{
 "cells": [
  {
   "cell_type": "markdown",
   "metadata": {},
   "source": [
    "# COMPUTER VISION using OpenCV"
   ]
  },
  {
   "cell_type": "markdown",
   "metadata": {},
   "source": [
    "# Installation"
   ]
  },
  {
   "cell_type": "markdown",
   "metadata": {},
   "source": [
    "* Command Prompt  - pip install opencv-python\n",
    "* Anaconda Prompt - conda install -c conda-forge opencv\n",
    "\n",
    "***If any error occurs like this \n",
    "\"Solving environment: failed with initial frozen solve. Retrying with flexible solve.\n",
    "Solving environment: .........\"***\n",
    "\n",
    "Try to install in a different environment by following commands,\n",
    "\n",
    "1. conda create -n opencv\n",
    "2. conda activate opencv\n",
    "3. conda install -c anaconda opencv\n",
    "4. repeat step 1 & 2 with new name(opencv4)\n",
    "5. conda install -c conda-forge opencv"
   ]
  },
  {
   "cell_type": "markdown",
   "metadata": {},
   "source": [
    "# **Image Preprocessing**"
   ]
  },
  {
   "cell_type": "markdown",
   "metadata": {},
   "source": [
    "#### Basic Operations"
   ]
  },
  {
   "cell_type": "code",
   "execution_count": null,
   "metadata": {},
   "outputs": [],
   "source": [
    "import cv2\n",
    "import imutils\n",
    "import matplotlib.pyplot as plt\n",
    "import numpy as np"
   ]
  },
  {
   "cell_type": "code",
   "execution_count": null,
   "metadata": {},
   "outputs": [],
   "source": [
    "## Reading an image\n",
    "\n",
    "sign = cv2.imread(\"Traffic Sign Detection\\Test_02\\Speed Limit.jpg\",1)"
   ]
  },
  {
   "cell_type": "code",
   "execution_count": null,
   "metadata": {},
   "outputs": [],
   "source": [
    "## Writing an image\n",
    "\n",
    "arr = np.zeros((400,400), np.uint8)\n",
    "cv2.imwrite(\"Traffic Sign Detection\\Test_02\\Test-image-1.jpg\",arr)"
   ]
  },
  {
   "cell_type": "code",
   "execution_count": null,
   "metadata": {},
   "outputs": [],
   "source": [
    "## Showing an image\n",
    "\n",
    "cv2.imshow(\"Sign\",sign)\n",
    "cv2.waitKey(0)\n",
    "cv2.destroyAllWindows()"
   ]
  },
  {
   "cell_type": "markdown",
   "metadata": {},
   "source": [
    "#### Color Conversion"
   ]
  },
  {
   "cell_type": "code",
   "execution_count": null,
   "metadata": {},
   "outputs": [],
   "source": [
    "## Converting an image into grayscale image\n",
    "\n",
    "new = cv2.cvtColor(sign,cv2.COLOR_RGB2GRAY)\n",
    "\n",
    "cv2.imshow(\"Color Conversion\",new)\n",
    "cv2.waitKey(0)\n",
    "cv2.destroyAllWindows()"
   ]
  },
  {
   "cell_type": "code",
   "execution_count": null,
   "metadata": {},
   "outputs": [],
   "source": [
    "## Resizing an image\n",
    "\n",
    "resized = cv2.resize(sign,(300,300), cv2.INTER_NEAREST)\n",
    "\n",
    "cv2.imshow(\"Original\",sign)\n",
    "cv2.imshow(\"Resized\",resized)\n",
    "cv2.waitKey(0)\n",
    "cv2.destroyAllWindows()"
   ]
  },
  {
   "cell_type": "code",
   "execution_count": null,
   "metadata": {},
   "outputs": [],
   "source": [
    "## Rotating an image\n",
    "\n",
    "row = sign.shape[0]\n",
    "col = sign.shape[1]\n",
    "center = (col/2,row/2)\n",
    "M = cv2.getRotationMatrix2D(center, 90, 1)\n",
    "rot = cv2.warpAffine(sign,M,(col,row))\n",
    "\n",
    "cv2.imshow(\"Original\",sign)\n",
    "cv2.imshow(\"Rotated\",rot)\n",
    "cv2.waitKey(0)\n",
    "cv2.destroyAllWindows()"
   ]
  },
  {
   "cell_type": "code",
   "execution_count": null,
   "metadata": {},
   "outputs": [],
   "source": [
    "## thresholding an image\n",
    "\n",
    "gray = cv2.cvtColor(sign, cv2.COLOR_RGB2GRAY)\n",
    "ret,thres = cv2.threshold(gray,127,255,cv2.THRESH_BINARY_INV)\n",
    "\n",
    "print(ret)\n",
    "cv2.imshow(\"Original\",sign)\n",
    "cv2.imshow(\"Thresholded\",thres)\n",
    "cv2.waitKey(0)\n",
    "cv2.destroyAllWindows()"
   ]
  },
  {
   "cell_type": "markdown",
   "metadata": {},
   "source": [
    "# **Image Filtering**"
   ]
  },
  {
   "cell_type": "code",
   "execution_count": null,
   "metadata": {},
   "outputs": [],
   "source": [
    "## Applying blur effect using gaussian filter\n",
    "\n",
    "gray = cv2.cvtColor(sign, cv2.COLOR_RGB2GRAY)\n",
    "blur = cv2.GaussianBlur(gray, (5,5),cv2.BORDER_DEFAULT) #cv2.BORDER_CONSTANT, cv2.BORDER_REFLECT, cv2.BORDER_REPLICATE\n",
    "\n",
    "type(blur)\n",
    "\n",
    "cv2.imshow(\"Original\",sign)\n",
    "cv2.imshow(\"Gaussian Filter\",blur)\n",
    "cv2.waitKey(0)\n",
    "cv2.destroyAllWindows()"
   ]
  },
  {
   "cell_type": "code",
   "execution_count": null,
   "metadata": {},
   "outputs": [],
   "source": [
    "## Applying blur effect using median filter\n",
    "\n",
    "gray = cv2.cvtColor(sign, cv2.COLOR_RGB2GRAY)\n",
    "blur = cv2.medianBlur(gray, 7)\n",
    "\n",
    "type(blur)\n",
    "\n",
    "cv2.imshow(\"Original\",sign)\n",
    "cv2.imshow(\"Median Filter\",blur)\n",
    "cv2.waitKey(0)\n",
    "cv2.destroyAllWindows()"
   ]
  },
  {
   "cell_type": "code",
   "execution_count": null,
   "metadata": {},
   "outputs": [],
   "source": [
    "## Applying distortion\n",
    "\n",
    "gray = cv2.cvtColor(sign, cv2.COLOR_RGB2GRAY)\n",
    "ret,thres = cv2.threshold(gray,127,255,cv2.THRESH_BINARY)\n",
    "\n",
    "kernel = np.ones((3,3), np.uint8)\n",
    "\n",
    "dilate = cv2.dilate(thres, kernel)\n",
    "erode = cv2.erode(thres, kernel)\n",
    "\n",
    "cv2.imshow(\"Original\",sign)\n",
    "cv2.imshow(\"Dilated\",dilate)\n",
    "cv2.imshow(\"Eroded\",erode)\n",
    "cv2.waitKey(0)\n",
    "cv2.destroyAllWindows()"
   ]
  },
  {
   "cell_type": "markdown",
   "metadata": {},
   "source": [
    "# **Object Detection**"
   ]
  },
  {
   "cell_type": "code",
   "execution_count": null,
   "metadata": {},
   "outputs": [],
   "source": [
    "## Detecting corners in an image\n",
    "\n",
    "gray = cv2.cvtColor(sign, cv2.COLOR_RGB2GRAY)\n",
    "gray = np.float32(gray)\n",
    "dst = cv2.cornerHarris(gray,2,3,0.007)\n",
    "new = sign.copy()\n",
    "new[dst>0.01*dst.max()]=[0,0,255]\n",
    "\n",
    "cv2.imshow(\"Corner\",new)\n",
    "cv2.waitKey(0)\n",
    "cv2.destroyAllWindows()"
   ]
  },
  {
   "cell_type": "code",
   "execution_count": null,
   "metadata": {},
   "outputs": [],
   "source": [
    "## Detecting edges in an image\n",
    "\n",
    "gray = cv2.cvtColor(sign, cv2.COLOR_RGB2GRAY)\n",
    "blur = cv2.GaussianBlur(gray, (5,5), cv2.BORDER_DEFAULT)\n",
    "dst = cv2.Canny(blur,10,255)\n",
    "\n",
    "cv2.imshow(\"Edges\",dst)\n",
    "cv2.waitKey(0)\n",
    "cv2.destroyAllWindows()"
   ]
  },
  {
   "cell_type": "code",
   "execution_count": null,
   "metadata": {},
   "outputs": [],
   "source": [
    "## Finding and drawing contours in an image\n",
    "\n",
    "gray = cv2.cvtColor(sign, cv2.COLOR_RGB2GRAY)\n",
    "blur = cv2.GaussianBlur(gray, (5,5), cv2.BORDER_DEFAULT)\n",
    "dst = cv2.Canny(blur,50,255)\n",
    "\n",
    "ret,image = cv2.threshold(gray, 127, 255, cv2.THRESH_OTSU)\n",
    "cnts,hrcs = cv2.findContours(dst, cv2.RETR_EXTERNAL, cv2.CHAIN_APPROX_NONE)\n",
    "\n",
    "cpy = sign.copy()\n",
    "for c in cnts:\n",
    "    cv2.drawContours(cpy, c, -1, (0,0,0), 3) \n",
    "cv2.imshow(\"Contour\",cpy)\n",
    "cv2.waitKey(0)\n",
    "cv2.destroyAllWindows()"
   ]
  },
  {
   "cell_type": "code",
   "execution_count": null,
   "metadata": {},
   "outputs": [],
   "source": [
    "## Finding feaures of contours in an image\n",
    "\n",
    "gray = cv2.cvtColor(sign, cv2.COLOR_RGB2GRAY)\n",
    "ret,image = cv2.threshold(gray, 127, 255, cv2.THRESH_BINARY_INV)\n",
    "cnts,hrcs = cv2.findContours(dst, cv2.RETR_EXTERNAL, cv2.CHAIN_APPROX_SIMPLE)\n",
    "\n",
    "copied = sign.copy()\n",
    "for c in cnts:\n",
    "    #M = cv2.moments(c)\n",
    "    #A = cv2.contourArea(c)\n",
    "    #P = cv2.arcLength(c, True)\n",
    "    #x,y,w,h = cv2.boundingRect(c)\n",
    "    \n",
    "    area = M['m00']\n",
    "    cenX = int(M['m10']/M['m00'])\n",
    "    cenY = int(M['m01']/M['m00'])\n",
    "    cv2.circle(copied, (cenX, cenY), 10, (0,255,0), 3)\n",
    "    cv2.rectangle(copied, (x,y), (x+w, y+h), (0,255,0), 3)\n",
    "\n",
    "cv2.imshow(\"Features\",copied)\n",
    "cv2.waitKey(0)\n",
    "cv2.destroyAllWindows()"
   ]
  },
  {
   "cell_type": "code",
   "execution_count": null,
   "metadata": {},
   "outputs": [],
   "source": [
    "## Detecting lines in an image\n",
    "\n",
    "image = cv2.imread(\"Traffic Sign Detection\\Test_02\\Railwaylines.jpg\")\n",
    "#image = cv2.resize(image, (700,700), cv2.INTER_NEAREST)\n",
    "print(type(image))\n",
    "gray = cv2.cvtColor(image, cv2.COLOR_RGB2GRAY)\n",
    "blur = cv2.GaussianBlur(gray, (5,5), cv2.BORDER_DEFAULT)\n",
    "edges = cv2.Canny(blur,100,150)\n",
    "\n",
    "lines = cv2.HoughLines(edges,1,np.pi/180, 150) \n",
    "img = image.copy()\n",
    "if len(lines)==0:\n",
    "    print(\"There are no lines detected\")\n",
    "else:\n",
    "    for each in lines:\n",
    "        for r,theta in each:\n",
    "            #print(theta)\n",
    "            a = np.cos(theta) \n",
    "            b = np.sin(theta)  \n",
    "            x0 = a*r \n",
    "            y0 = b*r \n",
    "\n",
    "            x1 = int(x0 + 1000*(-b)) # (rcos(theta)-1000sin(theta))  \n",
    "            y1 = int(y0 + 1000*(a)) # (rsin(theta)+1000cos(theta)) \n",
    "            x2 = int(x0 - 1000*(-b)) # (rcos(theta)+1000sin(theta)) \n",
    "            y2 = int(y0 - 1000*(a)) # (rsin(theta)-1000cos(theta))\n",
    "            print(x1,y1)\n",
    "            print(x2,y2)\n",
    "            cv2.line(img,(x1,y1), (x2,y2), (0,0,255),2) \n",
    "      \n",
    "\n",
    "cv2.imshow(\"lines\", img)\n",
    "plt.imshow(img)\n",
    "cv2.waitKey(0)\n",
    "cv2.destroyAllWindows()\n",
    "#cv2.imwrite('linesDetected.jpg', img)"
   ]
  },
  {
   "cell_type": "code",
   "execution_count": null,
   "metadata": {},
   "outputs": [],
   "source": [
    "## Detecting polygons in an image\n",
    "\n",
    "img = cv2.imread(\"Traffic Sign Detection\\Test_02\\Railwaylines.jpg\")\n",
    "\n",
    "copied = img.copy()\n",
    "gray = cv2.cvtColor(img, cv2.COLOR_RGB2GRAY)\n",
    "ret,image = cv2.threshold(gray, 127, 255, cv2.THRESH_OTSU)\n",
    "\n",
    "cnts,hrcs = cv2.findContours(image.copy(), cv2.RETR_TREE, cv2.CHAIN_APPROX_SIMPLE)\n",
    "\n",
    "num = 0\n",
    "for c in cnts:\n",
    "    Mmnt = cv2.moments(c)\n",
    "    area = cv2.contourArea(c)\n",
    "    peri = cv2.arcLength(c,True)\n",
    "    approx = cv2.approxPolyDP(c, 0.01*peri, True)\n",
    "    if len(approx) == 3:\n",
    "        num+=1\n",
    "        print(Mmnt)\n",
    "        print(area)\n",
    "        print(round(peri,2))\n",
    "\n",
    "        cv2.drawContours(copied, [approx], -1, (0, 255, 0), 3)\n",
    "\n",
    "print(str(num)+\" Triangle has been detected\")\n",
    "\n",
    "cv2.imshow(\"Contour\",copied)\n",
    "cv2.waitKey(0)\n",
    "cv2.destroyAllWindows()"
   ]
  },
  {
   "cell_type": "code",
   "execution_count": null,
   "metadata": {},
   "outputs": [],
   "source": []
  }
 ],
 "metadata": {
  "kernelspec": {
   "display_name": "Python 3",
   "language": "python",
   "name": "python3"
  },
  "language_info": {
   "codemirror_mode": {
    "name": "ipython",
    "version": 3
   },
   "file_extension": ".py",
   "mimetype": "text/x-python",
   "name": "python",
   "nbconvert_exporter": "python",
   "pygments_lexer": "ipython3",
   "version": "3.7.6"
  }
 },
 "nbformat": 4,
 "nbformat_minor": 4
}
